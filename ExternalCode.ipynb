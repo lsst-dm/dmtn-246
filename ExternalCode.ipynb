{
 "cells": [
  {
   "cell_type": "markdown",
   "id": "93c2ee07-2b51-4926-b904-31441aa52fd1",
   "metadata": {},
   "source": [
    "See if we can extract a FITS image and apply some external code to it. "
   ]
  },
  {
   "cell_type": "code",
   "execution_count": 1,
   "id": "6886f1f9-e461-4cb4-89d3-f1b966cac1b8",
   "metadata": {},
   "outputs": [],
   "source": [
    "from lsst.daf.butler import Butler\n",
    "from lsst.daf.butler.registry import Registry\n"
   ]
  },
  {
   "cell_type": "code",
   "execution_count": 2,
   "id": "87423a9d-7b52-4ede-bdfc-95a136b33af7",
   "metadata": {},
   "outputs": [],
   "source": [
    "config = '/repo/dc2/'\n",
    "collection = '2.2i/runs/DP0.1'\n",
    "butler = Butler(config, collections=collection)\n",
    "\n",
    "registry = butler.registry"
   ]
  },
  {
   "cell_type": "markdown",
   "id": "b72217c0-97dc-4f61-8984-6ca32928ce31",
   "metadata": {
    "tags": []
   },
   "source": [
    "Listing the images you want will have to be done with butler\n",
    "Using one of the tutorial queries.\n",
    "Here we will get a known visit and all the detectors from that visit. "
   ]
  },
  {
   "cell_type": "code",
   "execution_count": 3,
   "id": "60ffaf87-d8f3-414d-87fb-1d82fd33b4eb",
   "metadata": {},
   "outputs": [
    {
     "name": "stdout",
     "output_type": "stream",
     "text": [
      "Found 189 detectors\n"
     ]
    }
   ],
   "source": [
    "datasetType = 'calexp'\n",
    "dataId = {'visit': 733724}\n",
    "datasetRefs = set(registry.queryDatasets(datasetType, dataId=dataId))\n",
    "\n",
    "print(f\"Found {len(datasetRefs)} detectors\")"
   ]
  },
  {
   "cell_type": "markdown",
   "id": "252bbfae-89c7-4f36-adb2-62d01b925049",
   "metadata": {},
   "source": [
    "Now we have 189  ccd images for one focal plane  we can write out FITS files from Python objects. "
   ]
  },
  {
   "cell_type": "markdown",
   "id": "5b873a53-98cd-4c04-903e-e08a8b851a25",
   "metadata": {},
   "source": [
    "Write out fits files for the first count images. \n",
    "By default you will not have enough space to write 189 files."
   ]
  },
  {
   "cell_type": "code",
   "execution_count": 4,
   "id": "5bf66e8b-a509-4298-85d2-fff92ca34d4c",
   "metadata": {},
   "outputs": [
    {
     "name": "stdout",
     "output_type": "stream",
     "text": [
      "22 exposures output\n"
     ]
    }
   ],
   "source": [
    "for count, exp in enumerate(datasetRefs):\n",
    "    fn=f\"Rubin-calexp-{exp.dataId['visit']}-{exp.dataId['detector']}.fits\"\n",
    "    calexp = butler.get('calexp',exp.dataId)\n",
    "    calexp.writeFits(fn)\n",
    "    if (count > 20):\n",
    "        break\n",
    "\n",
    "print (f\"{count+1} exposures output\")"
   ]
  },
  {
   "cell_type": "markdown",
   "id": "177d0a06-dc9d-4b44-8af5-7c14d3e04f9b",
   "metadata": {},
   "source": [
    "Now we have Fits files we can use with external code.\n",
    "We get the list of files we made and process them with SEP (Source Extractor Python) as an example of external code. \n",
    "We will make a list of Objects and store that."
   ]
  },
  {
   "cell_type": "code",
   "execution_count": 5,
   "id": "2ad6d14f-5e44-4bec-98fb-81608230c4e9",
   "metadata": {},
   "outputs": [
    {
     "name": "stdout",
     "output_type": "stream",
     "text": [
      "['Rubin-calexp-733724-164.fits', 'Rubin-calexp-733724-109.fits', 'Rubin-calexp-733724-115.fits', 'Rubin-calexp-733724-19.fits', 'Rubin-calexp-733724-146.fits', 'Rubin-calexp-733724-59.fits', 'Rubin-calexp-733724-184.fits', 'Rubin-calexp-733724-152.fits', 'Rubin-calexp-733724-127.fits', 'Rubin-calexp-733724-70.fits', 'Rubin-calexp-733724-66.fits', 'Rubin-calexp-733724-81.fits', 'Rubin-calexp-733724-162.fits', 'Rubin-calexp-733724-14.fits', 'Rubin-calexp-733724-172.fits', 'Rubin-calexp-733724-113.fits', 'Rubin-calexp-733724-158.fits', 'Rubin-calexp-733724-15.fits', 'Rubin-calexp-733724-93.fits', 'Rubin-calexp-733724-96.fits', 'Rubin-calexp-733724-105.fits', 'Rubin-calexp-733724-135.fits']\n"
     ]
    }
   ],
   "source": [
    "import glob\n",
    "filelist = glob.glob('Rubin-calexp*.fits')"
   ]
  },
  {
   "cell_type": "code",
   "execution_count": 7,
   "id": "a3a6ab8e-658b-4ffd-b765-2924e97773f2",
   "metadata": {},
   "outputs": [
    {
     "name": "stdout",
     "output_type": "stream",
     "text": [
      "Extracted 30425 objects from 22 images/ccds written to catalog.csv.\n"
     ]
    }
   ],
   "source": [
    "from astropy.io import fits\n",
    "import sep\n",
    "import csv\n",
    "catfile = 'catalog.csv'\n",
    "outfile = open(catfile,'w')\n",
    "catalog = csv.writer(outfile,delimiter=',')\n",
    "ocount = 0\n",
    "               \n",
    "for ffile in filelist:\n",
    "    hdul = fits.open(ffile)  \n",
    "    data = hdul[1].data.byteswap().newbyteorder()  # sep wants this \n",
    "    bkg = sep.Background(data)\n",
    "    # subtract the background\n",
    "    data_sub = data - bkg\n",
    "    objects = sep.extract(data_sub, 1.5, err=bkg.globalrms)\n",
    "    for o in objects:\n",
    "        catalog.writerow(o)\n",
    "    ocount = ocount + len(objects)\n",
    "outfile.close()\n",
    "print(f\"Extracted {ocount} objects from {len(filelist)} images/ccds written to {catfile}.\")"
   ]
  }
 ],
 "metadata": {
  "kernelspec": {
   "display_name": "LSST",
   "language": "python",
   "name": "lsst"
  },
  "language_info": {
   "codemirror_mode": {
    "name": "ipython",
    "version": 3
   },
   "file_extension": ".py",
   "mimetype": "text/x-python",
   "name": "python",
   "nbconvert_exporter": "python",
   "pygments_lexer": "ipython3",
   "version": "3.10.5"
  }
 },
 "nbformat": 4,
 "nbformat_minor": 5
}
