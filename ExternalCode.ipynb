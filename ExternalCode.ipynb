{
 "cells": [
  {
   "cell_type": "markdown",
   "id": "93c2ee07-2b51-4926-b904-31441aa52fd1",
   "metadata": {},
   "source": [
    "See if we can extract a FITS image and apply some external code to it. "
   ]
  },
  {
   "cell_type": "code",
   "execution_count": null,
   "id": "6886f1f9-e461-4cb4-89d3-f1b966cac1b8",
   "metadata": {},
   "outputs": [],
   "source": [
    "from lsst.daf.butler import Butler\n",
    "from lsst.daf.butler.registry import Registry\n",
    "\n",
    "config = '/repo/dc2/'\n",
    "collection = '2.2i/runs/DP0.1'\n",
    "butler = Butler(config, collections=collection)\n",
    "\n",
    "registry = butler.registry\n",
    "\n",
    "collections = registry.queryCollections(\"2.2i*DP0*\")\n",
    "\n",
    "for c in collections :\n",
    "    print(c)\n"
   ]
  },
  {
   "cell_type": "raw",
   "id": "b20b8ea3-a8df-417d-93d2-027a7f21af1e",
   "metadata": {},
   "source": [
    "On the command line you may find collections with e.g.\n",
    "   butler query-collections /repo/dc2 \"*DP0*\"\n",
    " You dont need this next cell its just to show how to query the collection"
   ]
  },
  {
   "cell_type": "code",
   "execution_count": null,
   "id": "8af5fe56-7e45-46cb-a33b-47ef5ba6889e",
   "metadata": {},
   "outputs": [],
   "source": [
    "datasetRefs = list(registry.queryDatasets(datasetType='calexp',collections=['2.2i/runs/DP0.1/calexp/v1']))\n",
    "count = 0\n",
    "\n",
    "for ref in datasetRefs:\n",
    "    count = count + 1\n",
    "    print(ref.dataId)\n",
    "    if (count > 10): \n",
    "        break\n"
   ]
  },
  {
   "cell_type": "markdown",
   "id": "b72217c0-97dc-4f61-8984-6ca32928ce31",
   "metadata": {
    "tags": []
   },
   "source": [
    "Listing the images you want will have to be done with butler\n",
    "Using one of the tutorial queries  -"
   ]
  },
  {
   "cell_type": "code",
   "execution_count": null,
   "id": "b027f428-e386-48a2-8fe1-6b8bcd24ed97",
   "metadata": {},
   "outputs": [],
   "source": [
    "dataId = {'visit': 733724, 'detector': 175, 'band': 'i,r,g'}\n",
    "calexp = butler.get('calexp', **dataId)\n",
    "print(calexp)"
   ]
  },
  {
   "cell_type": "markdown",
   "id": "2b55cba3-6a19-450d-b1a0-35b88601bd91",
   "metadata": {},
   "source": [
    "That was a bit specific we can get a broader set ..."
   ]
  },
  {
   "cell_type": "code",
   "execution_count": 4,
   "id": "60ffaf87-d8f3-414d-87fb-1d82fd33b4eb",
   "metadata": {},
   "outputs": [
    {
     "name": "stdout",
     "output_type": "stream",
     "text": [
      "Found 189 detectors\n"
     ]
    }
   ],
   "source": [
    "datasetType = 'calexp'\n",
    "dataId = {'visit': 733724}\n",
    "datasetRefs = set(registry.queryDatasets(datasetType, dataId=dataId))\n",
    "\n",
    "print(f\"Found {len(datasetRefs)} detectors\")"
   ]
  },
  {
   "cell_type": "markdown",
   "id": "252bbfae-89c7-4f36-adb2-62d01b925049",
   "metadata": {},
   "source": [
    "Now we have 1 or more images but apparently our code wants a FITS file not a Python object. \n",
    "We really should not be using old file based tools but if we must .. \n",
    "First lets look at this one calexp .. you do not need this following cell it is just in case you want to chekc the image."
   ]
  },
  {
   "cell_type": "code",
   "execution_count": null,
   "id": "7e509dd0-84f0-47a9-a1e6-91e0e2dc23d5",
   "metadata": {},
   "outputs": [],
   "source": [
    "import lsst.afw.display as afwDisplay\n",
    "\n",
    "display = afwDisplay.getDisplay(backend='firefly')\n",
    "\n",
    "display.mtv(calexp)\n",
    "\n"
   ]
  },
  {
   "cell_type": "code",
   "execution_count": null,
   "id": "5bf66e8b-a509-4298-85d2-fff92ca34d4c",
   "metadata": {},
   "outputs": [],
   "source": [
    "\n",
    "\n",
    "for count, exp in enumerate(datasetRefs):\n",
    "    fn=f\"Rubin-calexp-{exp.dataId['visit']}-{exp.dataId['detector']}.fits\"\n",
    "    exp.writeFits(fn)\n",
    "    # just one for now\n",
    "    #now do our thing ..\n",
    "    break\n",
    "\n",
    "print (f\"{count} exposures \")\n",
    "\n"
   ]
  },
  {
   "cell_type": "code",
   "execution_count": 41,
   "id": "a3a6ab8e-658b-4ffd-b765-2924e97773f2",
   "metadata": {},
   "outputs": [],
   "source": [
    "#  Astropy fits header look\n",
    "from astropy.io import fits\n",
    "fits_image_filename='../ext-soft-demo/Rubin-733724-175-calexp.fits'\n",
    "hdul = fits.open(fits_image_filename)  \n"
   ]
  },
  {
   "cell_type": "code",
   "execution_count": null,
   "id": "1eadcad8-924c-47a8-9357-996f460a20c5",
   "metadata": {},
   "outputs": [],
   "source": [
    "for count,hdu in enumerate(hdul):\n",
    "    if count <= 3:\n",
    "        keys = hdu.header.keys()\n",
    "        print (hdu.name)\n",
    "        #  hdu.header['TFORM']=\"T_DOUBLE\"\n",
    "        for kcount,k in enumerate(keys):\n",
    "            if k.startswith(\"TFOR\"):\n",
    "               print(f\"{k}:{hdu.header[k]}\")\n",
    "\n",
    "        print(f\" saw {kcount} keys\")\n"
   ]
  },
  {
   "cell_type": "code",
   "execution_count": 44,
   "id": "22cd2658-18d1-4a0f-b9d9-80ffd2db90ae",
   "metadata": {},
   "outputs": [],
   "source": [
    "hdul.writeto(fits_image_filename,overwrite=True)"
   ]
  }
 ],
 "metadata": {
  "kernelspec": {
   "display_name": "LSST",
   "language": "python",
   "name": "lsst"
  },
  "language_info": {
   "codemirror_mode": {
    "name": "ipython",
    "version": 3
   },
   "file_extension": ".py",
   "mimetype": "text/x-python",
   "name": "python",
   "nbconvert_exporter": "python",
   "pygments_lexer": "ipython3",
   "version": "3.10.5"
  }
 },
 "nbformat": 4,
 "nbformat_minor": 5
}
