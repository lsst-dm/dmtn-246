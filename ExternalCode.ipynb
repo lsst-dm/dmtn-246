{
 "cells": [
  {
   "cell_type": "markdown",
   "id": "93c2ee07-2b51-4926-b904-31441aa52fd1",
   "metadata": {},
   "source": [
    "See if we can extract a FITS image and apply some external code to it. "
   ]
  },
  {
   "cell_type": "code",
   "execution_count": 1,
   "id": "6886f1f9-e461-4cb4-89d3-f1b966cac1b8",
   "metadata": {},
   "outputs": [
    {
     "name": "stdout",
     "output_type": "stream",
     "text": [
      "2.2i/runs/DP0.1/coadd/wfd/dr6/v1/u\n",
      "2.2i/runs/DP0.1/coadd/wfd/dr6/v1/grizy\n",
      "2.2i/runs/DP0.1/coadd/wfd/dr6/v1\n",
      "2.2i/runs/DP0.1/calexp/v1\n",
      "2.2i/raw/DP0\n",
      "2.2i/runs/DP0.1\n",
      "2.2i/defaults/DP0.2\n",
      "2.2i/raw/DP0.2\n"
     ]
    }
   ],
   "source": [
    "from lsst.daf.butler import Butler\n",
    "from lsst.daf.butler.registry import Registry\n",
    "\n",
    "config = '/repo/dc2/'\n",
    "collection = '2.2i/runs/DP0.1'\n",
    "butler = Butler(config, collections=collection)\n",
    "\n",
    "registry = butler.registry\n",
    "\n",
    "collections = registry.queryCollections(\"2.2i*DP0*\")\n",
    "\n",
    "for c in collections :\n",
    "    print(c)\n"
   ]
  },
  {
   "cell_type": "raw",
   "id": "b20b8ea3-a8df-417d-93d2-027a7f21af1e",
   "metadata": {},
   "source": [
    "On the command line you may find collections with e.g.\n",
    "   butler query-collections /repo/dc2 \"*DP0*\"\n",
    " You dont need this next cell its just to show how to query the collection"
   ]
  },
  {
   "cell_type": "code",
   "execution_count": null,
   "id": "8af5fe56-7e45-46cb-a33b-47ef5ba6889e",
   "metadata": {},
   "outputs": [],
   "source": [
    "datasetRefs = list(registry.queryDatasets(datasetType='calexp',collections=['2.2i/runs/DP0.1/calexp/v1']))\n",
    "count = 0\n",
    "\n",
    "for ref in datasetRefs:\n",
    "    count = count + 1\n",
    "    print(ref.dataId)\n",
    "    if (count > 10): \n",
    "        break\n"
   ]
  },
  {
   "cell_type": "markdown",
   "id": "b72217c0-97dc-4f61-8984-6ca32928ce31",
   "metadata": {
    "tags": []
   },
   "source": [
    "Listing the images you want will have to be done with butler\n",
    "Using one of the tutorial queries  -"
   ]
  },
  {
   "cell_type": "code",
   "execution_count": 3,
   "id": "b027f428-e386-48a2-8fe1-6b8bcd24ed97",
   "metadata": {},
   "outputs": [
    {
     "name": "stderr",
     "output_type": "stream",
     "text": [
      "/opt/lsst/software/stack/stack/miniconda3-py38_4.9.2-4.1.0/Linux64/obs_base/g188f660963+e1f1daa193/python/lsst/obs/base/formatters/fitsExposure.py:644: UserWarning: Data ID {instrument: 'LSSTCam-imSim', detector: 175, visit: 733724} is missing (implied) value(s) for ['band', 'physical_filter']; the correctness of this Exposure's FilterLabel cannot be guaranteed. Call Registry.expandDataId before Butler.get to avoid this.\n",
      "  warnings.warn(\n"
     ]
    }
   ],
   "source": [
    "dataId = {'visit': 733724, 'detector': 175, 'band': 'i,r,g'}\n",
    "calexp = butler.get('calexp', **dataId)\n"
   ]
  },
  {
   "cell_type": "code",
   "execution_count": 4,
   "id": "a3ea2cd2-9d74-4992-9f98-a3f5074f6213",
   "metadata": {},
   "outputs": [
    {
     "name": "stdout",
     "output_type": "stream",
     "text": [
      "<lsst.afw.image.exposure.ExposureF object at 0x7f5b9d351670>\n"
     ]
    }
   ],
   "source": [
    "print(calexp)"
   ]
  },
  {
   "cell_type": "markdown",
   "id": "2b55cba3-6a19-450d-b1a0-35b88601bd91",
   "metadata": {},
   "source": [
    "That was a bit specific we can get a broader set ..."
   ]
  },
  {
   "cell_type": "code",
   "execution_count": 5,
   "id": "60ffaf87-d8f3-414d-87fb-1d82fd33b4eb",
   "metadata": {},
   "outputs": [
    {
     "name": "stdout",
     "output_type": "stream",
     "text": [
      "Found 189 detectors\n"
     ]
    }
   ],
   "source": [
    "datasetType = 'calexp'\n",
    "dataId = {'visit': 733724}\n",
    "datasetRefs = set(registry.queryDatasets(datasetType, dataId=dataId))\n",
    "\n",
    "print(f\"Found {len(datasetRefs)} detectors\")"
   ]
  },
  {
   "cell_type": "markdown",
   "id": "252bbfae-89c7-4f36-adb2-62d01b925049",
   "metadata": {},
   "source": [
    "Now we have 1 or more images but apparently our code wants a FITS file not a Python object. \n",
    "We really should not be using old file based tools but if we must .. \n",
    "First lets look at this one calexp .. you do not need this following cell it is just in case you want to chekc the image."
   ]
  },
  {
   "cell_type": "code",
   "execution_count": 6,
   "id": "7e509dd0-84f0-47a9-a1e6-91e0e2dc23d5",
   "metadata": {},
   "outputs": [],
   "source": [
    "import lsst.afw.display as afwDisplay\n",
    "\n",
    "display = afwDisplay.getDisplay(backend='firefly')\n",
    "\n",
    "display.mtv(calexp)\n",
    "\n"
   ]
  },
  {
   "cell_type": "code",
   "execution_count": 15,
   "id": "5bf66e8b-a509-4298-85d2-fff92ca34d4c",
   "metadata": {},
   "outputs": [
    {
     "name": "stdout",
     "output_type": "stream",
     "text": [
      "Rubin-calexp-733724-65.fits\n",
      "Rubin-calexp-733724-44.fits\n",
      "Rubin-calexp-733724-24.fits\n",
      "Rubin-calexp-733724-2.fits\n",
      "Rubin-calexp-733724-16.fits\n",
      "Rubin-calexp-733724-126.fits\n",
      "Rubin-calexp-733724-169.fits\n",
      "Rubin-calexp-733724-62.fits\n",
      "Rubin-calexp-733724-75.fits\n",
      "Rubin-calexp-733724-77.fits\n",
      "Rubin-calexp-733724-131.fits\n",
      "Rubin-calexp-733724-61.fits\n",
      "Rubin-calexp-733724-125.fits\n",
      "Rubin-calexp-733724-6.fits\n",
      "Rubin-calexp-733724-8.fits\n",
      "Rubin-calexp-733724-33.fits\n",
      "Rubin-calexp-733724-99.fits\n",
      "Rubin-calexp-733724-49.fits\n",
      "Rubin-calexp-733724-10.fits\n",
      "Rubin-calexp-733724-15.fits\n",
      "Rubin-calexp-733724-182.fits\n",
      "Rubin-calexp-733724-104.fits\n",
      "Rubin-calexp-733724-56.fits\n",
      "Rubin-calexp-733724-128.fits\n",
      "Rubin-calexp-733724-142.fits\n",
      "Rubin-calexp-733724-165.fits\n",
      "Rubin-calexp-733724-80.fits\n",
      "Rubin-calexp-733724-188.fits\n",
      "Rubin-calexp-733724-139.fits\n",
      "Rubin-calexp-733724-35.fits\n",
      "Rubin-calexp-733724-153.fits\n",
      "Rubin-calexp-733724-45.fits\n",
      "Rubin-calexp-733724-106.fits\n",
      "Rubin-calexp-733724-135.fits\n",
      "Rubin-calexp-733724-158.fits\n",
      "Rubin-calexp-733724-185.fits\n",
      "Rubin-calexp-733724-115.fits\n",
      "Rubin-calexp-733724-64.fits\n",
      "Rubin-calexp-733724-179.fits\n",
      "Rubin-calexp-733724-124.fits\n",
      "Rubin-calexp-733724-66.fits\n",
      "Rubin-calexp-733724-116.fits\n",
      "Rubin-calexp-733724-117.fits\n",
      "Rubin-calexp-733724-109.fits\n",
      "Rubin-calexp-733724-157.fits\n",
      "Rubin-calexp-733724-74.fits\n",
      "Rubin-calexp-733724-108.fits\n",
      "Rubin-calexp-733724-176.fits\n",
      "Rubin-calexp-733724-178.fits\n",
      "Rubin-calexp-733724-186.fits\n",
      "Rubin-calexp-733724-143.fits\n",
      "Rubin-calexp-733724-164.fits\n",
      "Rubin-calexp-733724-81.fits\n",
      "Rubin-calexp-733724-22.fits\n",
      "Rubin-calexp-733724-112.fits\n",
      "Rubin-calexp-733724-127.fits\n",
      "Rubin-calexp-733724-54.fits\n",
      "Rubin-calexp-733724-146.fits\n",
      "Rubin-calexp-733724-145.fits\n",
      "Rubin-calexp-733724-177.fits\n",
      "Rubin-calexp-733724-147.fits\n",
      "Rubin-calexp-733724-180.fits\n",
      "Rubin-calexp-733724-171.fits\n",
      "Rubin-calexp-733724-83.fits\n",
      "Rubin-calexp-733724-90.fits\n",
      "Rubin-calexp-733724-151.fits\n",
      "Rubin-calexp-733724-152.fits\n",
      "Rubin-calexp-733724-110.fits\n",
      "Rubin-calexp-733724-103.fits\n",
      "Rubin-calexp-733724-98.fits\n",
      "Rubin-calexp-733724-67.fits\n",
      "Rubin-calexp-733724-95.fits\n",
      "Rubin-calexp-733724-114.fits\n",
      "Rubin-calexp-733724-85.fits\n",
      "Rubin-calexp-733724-17.fits\n",
      "Rubin-calexp-733724-73.fits\n",
      "Rubin-calexp-733724-113.fits\n",
      "Rubin-calexp-733724-89.fits\n",
      "Rubin-calexp-733724-181.fits\n",
      "Rubin-calexp-733724-19.fits\n",
      "Rubin-calexp-733724-26.fits\n",
      "Rubin-calexp-733724-102.fits\n",
      "Rubin-calexp-733724-47.fits\n",
      "Rubin-calexp-733724-41.fits\n",
      "Rubin-calexp-733724-150.fits\n",
      "Rubin-calexp-733724-51.fits\n",
      "Rubin-calexp-733724-172.fits\n",
      "Rubin-calexp-733724-58.fits\n",
      "Rubin-calexp-733724-91.fits\n",
      "Rubin-calexp-733724-122.fits\n",
      "Rubin-calexp-733724-32.fits\n",
      "Rubin-calexp-733724-11.fits\n",
      "Rubin-calexp-733724-137.fits\n",
      "Rubin-calexp-733724-162.fits\n",
      "Rubin-calexp-733724-70.fits\n",
      "Rubin-calexp-733724-105.fits\n",
      "Rubin-calexp-733724-4.fits\n",
      "Rubin-calexp-733724-100.fits\n",
      "Rubin-calexp-733724-132.fits\n",
      "Rubin-calexp-733724-155.fits\n",
      "Rubin-calexp-733724-84.fits\n",
      "Rubin-calexp-733724-184.fits\n",
      "Rubin-calexp-733724-60.fits\n",
      "Rubin-calexp-733724-68.fits\n",
      "Rubin-calexp-733724-59.fits\n",
      "Rubin-calexp-733724-71.fits\n",
      "Rubin-calexp-733724-43.fits\n",
      "Rubin-calexp-733724-93.fits\n",
      "Rubin-calexp-733724-13.fits\n",
      "Rubin-calexp-733724-129.fits\n",
      "Rubin-calexp-733724-78.fits\n",
      "Rubin-calexp-733724-57.fits\n",
      "Rubin-calexp-733724-87.fits\n",
      "Rubin-calexp-733724-34.fits\n",
      "Rubin-calexp-733724-37.fits\n",
      "Rubin-calexp-733724-174.fits\n",
      "Rubin-calexp-733724-111.fits\n",
      "Rubin-calexp-733724-175.fits\n",
      "Rubin-calexp-733724-94.fits\n",
      "Rubin-calexp-733724-30.fits\n",
      "Rubin-calexp-733724-120.fits\n",
      "Rubin-calexp-733724-123.fits\n",
      "Rubin-calexp-733724-160.fits\n",
      "Rubin-calexp-733724-14.fits\n",
      "Rubin-calexp-733724-53.fits\n",
      "Rubin-calexp-733724-40.fits\n",
      "Rubin-calexp-733724-96.fits\n",
      "Rubin-calexp-733724-119.fits\n",
      "Rubin-calexp-733724-161.fits\n",
      "Rubin-calexp-733724-166.fits\n",
      "Rubin-calexp-733724-92.fits\n",
      "Rubin-calexp-733724-86.fits\n",
      "Rubin-calexp-733724-118.fits\n",
      "Rubin-calexp-733724-38.fits\n",
      "Rubin-calexp-733724-163.fits\n",
      "Rubin-calexp-733724-46.fits\n",
      "Rubin-calexp-733724-25.fits\n",
      "Rubin-calexp-733724-72.fits\n",
      "Rubin-calexp-733724-134.fits\n",
      "Rubin-calexp-733724-156.fits\n",
      "Rubin-calexp-733724-52.fits\n",
      "Rubin-calexp-733724-27.fits\n",
      "Rubin-calexp-733724-130.fits\n",
      "Rubin-calexp-733724-7.fits\n",
      "Rubin-calexp-733724-63.fits\n",
      "Rubin-calexp-733724-187.fits\n",
      "Rubin-calexp-733724-0.fits\n",
      "Rubin-calexp-733724-170.fits\n",
      "Rubin-calexp-733724-159.fits\n",
      "Rubin-calexp-733724-183.fits\n",
      "Rubin-calexp-733724-82.fits\n",
      "Rubin-calexp-733724-20.fits\n",
      "Rubin-calexp-733724-1.fits\n",
      "Rubin-calexp-733724-168.fits\n",
      "Rubin-calexp-733724-107.fits\n",
      "Rubin-calexp-733724-48.fits\n",
      "Rubin-calexp-733724-31.fits\n",
      "Rubin-calexp-733724-69.fits\n",
      "Rubin-calexp-733724-76.fits\n",
      "Rubin-calexp-733724-140.fits\n",
      "Rubin-calexp-733724-21.fits\n",
      "Rubin-calexp-733724-18.fits\n",
      "Rubin-calexp-733724-149.fits\n",
      "Rubin-calexp-733724-141.fits\n",
      "Rubin-calexp-733724-133.fits\n",
      "Rubin-calexp-733724-5.fits\n",
      "Rubin-calexp-733724-154.fits\n",
      "Rubin-calexp-733724-167.fits\n",
      "Rubin-calexp-733724-36.fits\n",
      "Rubin-calexp-733724-97.fits\n",
      "Rubin-calexp-733724-148.fits\n",
      "Rubin-calexp-733724-121.fits\n",
      "Rubin-calexp-733724-144.fits\n",
      "Rubin-calexp-733724-50.fits\n",
      "Rubin-calexp-733724-79.fits\n",
      "Rubin-calexp-733724-136.fits\n",
      "Rubin-calexp-733724-55.fits\n",
      "Rubin-calexp-733724-23.fits\n",
      "Rubin-calexp-733724-28.fits\n",
      "Rubin-calexp-733724-173.fits\n",
      "Rubin-calexp-733724-39.fits\n",
      "Rubin-calexp-733724-29.fits\n",
      "Rubin-calexp-733724-101.fits\n",
      "Rubin-calexp-733724-3.fits\n",
      "Rubin-calexp-733724-9.fits\n",
      "Rubin-calexp-733724-88.fits\n",
      "Rubin-calexp-733724-42.fits\n",
      "Rubin-calexp-733724-12.fits\n",
      "Rubin-calexp-733724-138.fits\n"
     ]
    }
   ],
   "source": [
    "\n",
    "for count, exp in enumerate(datasetRefs):\n",
    "    fn=f\"Rubin-calexp-{exp.dataId['visit']}-{exp.dataId['detector']}.fits\"\n",
    "    exp.writeFits(fn)\n",
    "    #now do our thing ..\n",
    "print (f\"{count} exposures \")\n",
    "\n"
   ]
  },
  {
   "cell_type": "code",
   "execution_count": null,
   "id": "1eadcad8-924c-47a8-9357-996f460a20c5",
   "metadata": {},
   "outputs": [],
   "source": []
  }
 ],
 "metadata": {
  "kernelspec": {
   "display_name": "LSST",
   "language": "python",
   "name": "lsst"
  },
  "language_info": {
   "codemirror_mode": {
    "name": "ipython",
    "version": 3
   },
   "file_extension": ".py",
   "mimetype": "text/x-python",
   "name": "python",
   "nbconvert_exporter": "python",
   "pygments_lexer": "ipython3",
   "version": "3.10.5"
  }
 },
 "nbformat": 4,
 "nbformat_minor": 5
}
